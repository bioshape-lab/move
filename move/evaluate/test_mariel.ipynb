{
 "cells": [
  {
   "cell_type": "code",
   "execution_count": 13,
   "metadata": {},
   "outputs": [],
   "source": [
    "import matplotlib.pyplot as plt\n",
    "%matplotlib inline"
   ]
  },
  {
   "cell_type": "code",
   "execution_count": 7,
   "metadata": {},
   "outputs": [],
   "source": [
    "\n",
    "import logging\n",
    "import os\n",
    "import pickle\n",
    "from glob import glob\n",
    "\n",
    "def load_mariel_raw(pattern=\"data/mariel_*.npy\"):\n",
    "    \"\"\"Load six datasets and perform minimal preprocessing.\n",
    "\n",
    "    Processing amunts to center each dancer, such that\n",
    "    the barycenter becomes 0.\n",
    "\n",
    "    From Pettee 2019:\n",
    "    Each frame of the dataset is transformed such that the\n",
    "    overall average (x,y) position per frame is centered at\n",
    "    the same point and scaled such that all of the coordinates\n",
    "    fit within the unit cube.\n",
    "    \"\"\"\n",
    "    datasets = {}\n",
    "    ds_all = []\n",
    "\n",
    "    exclude_points = [26, 53]\n",
    "    point_mask = np.ones(55, dtype=bool)\n",
    "    point_mask[exclude_points] = 0\n",
    "\n",
    "    logging.info(\"Loading raw datasets:\")\n",
    "    for f in sorted(glob(pattern)):\n",
    "        ds_name = os.path.basename(f)[7:-4]\n",
    "        ds = np.load(f).transpose((1, 0, 2))\n",
    "        ds = ds[500:-500, point_mask]\n",
    "        logging.info(f\"- {f} of shape {ds.shape}\")\n",
    "\n",
    "        ds[:, :, 2] *= -1\n",
    "        # ds = filter_points(ds)\n",
    "\n",
    "        datasets[ds_name] = ds\n",
    "        ds_all.append(ds)\n",
    "\n",
    "    ds_counts = np.array([ds.shape[0] for ds in ds_all])\n",
    "    ds_offsets = np.zeros_like(ds_counts)\n",
    "    ds_offsets[1:] = np.cumsum(ds_counts[:-1])\n",
    "\n",
    "    ds_all = np.concatenate(ds_all)\n",
    "\n",
    "    low, hi = np.quantile(ds_all, [0.01, 0.99], axis=(0, 1))\n",
    "    xy_min = min(low[:2])\n",
    "    xy_max = max(hi[:2])\n",
    "    xy_range = xy_max - xy_min\n",
    "    ds_all[:, :, :2] -= xy_min\n",
    "    ds_all *= 2 / xy_range\n",
    "    ds_all[:, :, :2] -= 1.0\n",
    "\n",
    "    # it's also useful to have these datasets centered,\n",
    "    # i.e. with the x and y offsets\n",
    "    # subtracted from each individual frame\n",
    "\n",
    "    ds_all_centered = ds_all.copy()\n",
    "    ds_all_centered[:, :, :2] -= ds_all_centered[:, :, :2].mean(axis=1, keepdims=True)\n",
    "\n",
    "    datasets_centered = {}\n",
    "    for ds in datasets:\n",
    "        datasets[ds][:, :, :2] -= xy_min\n",
    "        datasets[ds] *= 2 / xy_range\n",
    "        datasets[ds][:, :, :2] -= 1.0\n",
    "        datasets_centered[ds] = datasets[ds].copy()\n",
    "        datasets_centered[ds][:, :, :2] -= datasets[ds][:, :, :2].mean(\n",
    "            axis=1, keepdims=True\n",
    "        )\n",
    "\n",
    "    low, hi = np.quantile(ds_all, [0.01, 0.99], axis=(0, 1))\n",
    "    return ds_all, ds_all_centered, datasets, datasets_centered, ds_counts"
   ]
  },
  {
   "cell_type": "code",
   "execution_count": 8,
   "metadata": {},
   "outputs": [],
   "source": [
    "ds_all, ds_all_centered, _, _, _ = load_mariel_raw()\n",
    "pose_data = ds_all_centered.reshape((ds_all.shape[0], -1))"
   ]
  },
  {
   "cell_type": "code",
   "execution_count": 9,
   "metadata": {},
   "outputs": [
    {
     "name": "stdout",
     "output_type": "stream",
     "text": [
      "(38309, 159)\n"
     ]
    }
   ],
   "source": [
    "print(pose_data.shape)"
   ]
  },
  {
   "cell_type": "code",
   "execution_count": 15,
   "metadata": {},
   "outputs": [
    {
     "data": {
      "text/plain": [
       "array([-0.05188609,  0.20164581,  0.24751503, -0.01699805,  0.08975039,\n",
       "        0.25119249, -0.00388664,  0.08711654,  0.17110871,  0.19051095,\n",
       "       -0.05916478,  0.05245764, -0.02073609,  0.15750026,  0.25152354,\n",
       "        0.04156951,  0.12206756,  0.23592946,  0.08116827, -0.0381786 ,\n",
       "        0.2388818 ,  0.02873957,  0.11097545,  0.10089207, -0.00045154,\n",
       "        0.20566443,  0.23175354,  0.01046035,  0.11083446,  0.06335681,\n",
       "        0.01864126,  0.12144008,  0.18391637,  0.10589385, -0.01518018,\n",
       "        0.18812494,  0.17291316, -0.09043159,  0.0563794 ,  0.00570556,\n",
       "        0.07262767,  0.10950264, -0.0248498 ,  0.11860811,  0.01159426,\n",
       "       -0.02977732,  0.08831724,  0.02119496,  0.17881402,  0.07064791,\n",
       "        0.12312045,  0.13440726,  0.07265151,  0.09368184,  0.1613274 ,\n",
       "       -0.0260098 ,  0.01516635,  0.19750747, -0.0304813 ,  0.01305038,\n",
       "        0.0043743 ,  0.11166746,  0.00563679,  0.01067376,  0.0870072 ,\n",
       "        0.01598083,  0.18833679, -0.01730936,  0.08484483,  0.14754445,\n",
       "        0.01014402,  0.18425767,  0.18187418, -0.01261244,  0.01404512,\n",
       "        0.04705272,  0.11446053,  0.1446332 ,  0.04968583, -0.0583105 ,\n",
       "        0.23277573,  0.06292322, -0.0211789 ,  0.14283883, -0.10757254,\n",
       "       -0.36475176,  0.07631482, -0.07247671,  0.15656707,  0.22367561,\n",
       "       -0.07082935,  0.07619571,  0.233397  ,  0.0058521 , -0.07820004,\n",
       "        0.20064281, -0.11201705,  0.05537483,  0.11363745, -0.05139463,\n",
       "        0.20572509,  0.19496899, -0.12136076,  0.08113292,  0.07725416,\n",
       "       -0.05115081,  0.08559774,  0.18356112, -0.00405555, -0.05639165,\n",
       "        0.1550285 , -0.09353241, -0.38510755,  0.09548934, -0.07305908,\n",
       "        0.04584707,  0.10699356, -0.11755287,  0.12380593,  0.01319957,\n",
       "       -0.10314845,  0.09875982,  0.00894734, -0.05557351, -0.20587319,\n",
       "        0.04780144, -0.01759463, -0.22772677,  0.03042412, -0.09964072,\n",
       "       -0.36764101,  0.00798509, -0.13975007, -0.36013875,  0.01518974,\n",
       "       -0.15028321,  0.11030092,  0.00192751, -0.14244582,  0.08740342,\n",
       "        0.01430036, -0.09365039, -0.26852824,  0.05682563, -0.01951929,\n",
       "       -0.12221656,  0.10138088, -0.11585857, -0.34774084,  0.01594138,\n",
       "       -0.10109895,  0.04693511,  0.17078208,  0.02853823,  0.00703192,\n",
       "        0.15235646,  0.00763667,  0.0193696 ,  0.25141668])"
      ]
     },
     "execution_count": 15,
     "metadata": {},
     "output_type": "execute_result"
    }
   ],
   "source": [
    "pose_data[0]"
   ]
  },
  {
   "cell_type": "code",
   "execution_count": 14,
   "metadata": {},
   "outputs": [
    {
     "data": {
      "image/png": "[encoded data removed]",
      "text/plain": [
       "<Figure size 432x288 with 1 Axes>"
      ]
     },
     "metadata": {
      "needs_background": "light"
     },
     "output_type": "display_data"
    }
   ],
   "source": [
    "plt.hist(pose_data.mean(axis=-1), bins=50);"
   ]
  },
  {
   "cell_type": "code",
   "execution_count": 17,
   "metadata": {},
   "outputs": [
    {
     "data": {
      "image/png": "[encoded data removed]",
      "text/plain": [
       "<Figure size 432x288 with 1 Axes>"
      ]
     },
     "metadata": {
      "needs_background": "light"
     },
     "output_type": "display_data"
    }
   ],
   "source": [
    "plt.hist(pose_data.min(axis=-1), bins=50);"
   ]
  },
  {
   "cell_type": "code",
   "execution_count": 18,
   "metadata": {},
   "outputs": [
    {
     "data": {
      "image/png": "[encoded data removed]",
      "text/plain": [
       "<Figure size 432x288 with 1 Axes>"
      ]
     },
     "metadata": {
      "needs_background": "light"
     },
     "output_type": "display_data"
    }
   ],
   "source": [
    "plt.hist(pose_data.max(axis=-1), bins=50);"
   ]
  },
  {
   "cell_type": "code",
   "execution_count": 16,
   "metadata": {},
   "outputs": [
    {
     "data": {
      "image/png": "[encoded data removed]",
      "text/plain": [
       "<Figure size 432x288 with 1 Axes>"
      ]
     },
     "metadata": {
      "needs_background": "light"
     },
     "output_type": "display_data"
    }
   ],
   "source": [
    "plt.hist(pose_data.std(axis=-1), bins=50);"
   ]
  },
  {
   "cell_type": "code",
   "execution_count": null,
   "metadata": {},
   "outputs": [],
   "source": []
  }
 ],
 "metadata": {
  "interpreter": {
   "hash": "0496c087ebfcb231e4e82cb2187334c54ab1334c57091ddaa6d5dde28d706985"
  },
  "kernelspec": {
   "display_name": "Python 3.9.7 ('base')",
   "language": "python",
   "name": "python3"
  },
  "language_info": {
   "codemirror_mode": {
    "name": "ipython",
    "version": 3
   },
   "file_extension": ".py",
   "mimetype": "text/x-python",
   "name": "python",
   "nbconvert_exporter": "python",
   "pygments_lexer": "ipython3",
   "version": "3.9.7"
  },
  "orig_nbformat": 4
 },
 "nbformat": 4,
 "nbformat_minor": 2
}
